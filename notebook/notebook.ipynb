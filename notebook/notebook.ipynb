{
 "cells": [
  {
   "cell_type": "markdown",
   "source": [],
   "metadata": {
    "collapsed": false
   },
   "id": "32f28261fa3a35f0"
  },
  {
   "cell_type": "markdown",
   "source": [
    "# ESSI - MVP - PUC-RIO - Bruno Bastos\n",
    "Este notebook contém o código para treinamento e avaliação dos modelos de classificação do dataset Titanic.\n",
    "Este projeto faz parte da última sprint do curso de enenharia de software da PUC-RIO."
   ],
   "metadata": {
    "collapsed": false
   },
   "id": "f2bd2214cb6c6b41"
  },
  {
   "cell_type": "markdown",
   "source": [
    "# Importações"
   ],
   "metadata": {
    "collapsed": false
   },
   "id": "890c9d25fa769115"
  },
  {
   "cell_type": "code",
   "execution_count": 18,
   "outputs": [],
   "source": [
    "import pandas as pd\n",
    "from sklearn.model_selection import train_test_split, GridSearchCV, StratifiedKFold, cross_val_score\n",
    "from sklearn.preprocessing import StandardScaler, OneHotEncoder, MinMaxScaler\n",
    "from sklearn.impute import SimpleImputer\n",
    "from sklearn.compose import ColumnTransformer\n",
    "from sklearn.pipeline import Pipeline\n",
    "from sklearn.neighbors import KNeighborsClassifier\n",
    "from sklearn.naive_bayes import GaussianNB\n",
    "from sklearn.tree import DecisionTreeClassifier\n",
    "from sklearn.svm import SVC\n",
    "from sklearn.metrics import accuracy_score\n",
    "import joblib\n",
    "from IPython.display import HTML\n",
    "import warnings\n",
    "\n",
    "warnings.filterwarnings('ignore')\n",
    "\n",
    "# definindo constantes para controle de seed e test_size\n",
    "SEED = 7\n",
    "TEST_SIZE = 1 / 4\n",
    "\n",
    "# ANOTAÇÕES SOBRE OS MELHORES RESULTADOS OBTIDOS\n",
    "# RF PADRONIZADO: 0.8841463414634146 (SEED=10 e TEST_SIZE=1/4)\n",
    "# SVM PADRONIZADO: 0.8475609756097561 (SEED=7 e TEST_SIZE=1/4)\n",
    "\n",
    "MODELOS_SOLICITADOS = ['KNN', 'NB', 'CART', 'SVM']\n",
    "USAR_APENAS_MODELOS_SOLICITADOS = True\n"
   ],
   "metadata": {
    "collapsed": false,
    "ExecuteTime": {
     "end_time": "2023-12-11T10:13:31.177888200Z",
     "start_time": "2023-12-11T10:13:31.111677500Z"
    }
   },
   "id": "bdbf7946dc672b7e"
  },
  {
   "cell_type": "markdown",
   "source": [
    "# Carregar, explorar e tratar os dados"
   ],
   "metadata": {
    "collapsed": false
   },
   "id": "27afb16371e088bd"
  },
  {
   "cell_type": "code",
   "execution_count": 27,
   "outputs": [
    {
     "ename": "SyntaxError",
     "evalue": "invalid syntax (375502956.py, line 51)",
     "output_type": "error",
     "traceback": [
      "\u001B[1;36m  Cell \u001B[1;32mIn[27], line 51\u001B[1;36m\u001B[0m\n\u001B[1;33m    adicionar cain\u001B[0m\n\u001B[1;37m              ^\u001B[0m\n\u001B[1;31mSyntaxError\u001B[0m\u001B[1;31m:\u001B[0m invalid syntax\n"
     ]
    }
   ],
   "source": [
    "# Carregar o dataset\n",
    "url = \"https://raw.githubusercontent.com/BrunoBasstos/mvp-iv-notebook/main/src/titanic-dataset.csv\"\n",
    "original_ds = pd.read_csv(url)\n",
    "\n",
    "# Explorando os dados\n",
    "\n",
    "# Exibir as primeiras linhas\n",
    "print(\"Primeiras linhas:\")\n",
    "display(original_ds.head())\n",
    "\n",
    "# pegar as iniciais dos nomes das cabines\n",
    "iniciais_cabines = original_ds['Cabin'].str[0].unique()\n",
    "print(f\"Iniciais das cabines: {iniciais_cabines}\")\n",
    "\n",
    "\n",
    "\n",
    "\n",
    "# exibir dtypes, valores únicos e valores nulos\n",
    "print(\"Tipos de dados, valores únicos e valores nulos:\")\n",
    "display(pd.concat([original_ds.dtypes, original_ds.nunique(), original_ds.isnull().sum()], axis=1,\n",
    "                  keys=['dtypes', 'valores únicos', 'valores nulos']))\n",
    "\n",
    "# valores únicos, em tese, podem ser menos relevantes para o modelo. Para fins de teste, \n",
    "# vou desconsiderar as colunas PassengerId e Name (embora Name pareça ter informações relevantes, como o título da pessoa)\n",
    "colunas_desconsiderar = ['PassengerId', 'Name']\n",
    "\n",
    "# Tratar as idades nulas pode ajudar o modelo, vamos tentar alguma estratégia que calcule a média de idade mas mantendo segregado por sexo e classe\n",
    "# criar um dicionário com a média de idade por sexo e classe\n",
    "media_idade_por_sexo_classe = original_ds.groupby(['Sex', 'Pclass'])['Age'].mean()\n",
    "\n",
    "\n",
    "# Função para preencher idades nulas\n",
    "def preencher_idade(row):\n",
    "    # Se a idade é nula\n",
    "    if pd.isnull(row['Age']):\n",
    "        # Retornar a média de idade para a combinação de sexo e classe do passageiro\n",
    "        return media_idade_por_sexo_classe[row['Sex'], row['Pclass']]\n",
    "    else:\n",
    "        # Se a idade não é nula, retornar a idade\n",
    "        return row['Age']\n",
    "\n",
    "\n",
    "# substituindo os valores nulos de idade no dataset original\n",
    "original_ds['Age'] = original_ds.apply(preencher_idade, axis=1)\n",
    "\n",
    "# Cabin tem muitos valores nulos, mas pode ser relevante para o modelo considerando que a cabine indica a posição do passageiro no navio\n",
    "# Vou definir um trasnformador para converter a coluna Cabin em números, e vou aplicá-lo no pré-processamento para que possa ser aproveitado no modelo exportado\n",
    "# O transformador vai converter a coluna Cabin em números, considerando apenas a primeira letra da cabine (que indica a posição no navio)\n",
    "# A letra A será convertida para 1, B para 2, e assim por diante\n",
    "# importar CabinToNumber de transformes.py\n",
    "# adicionar cabin a colunas_desconsiderar\n",
    "colunas_desconsiderar.append('Cabin')\n",
    " \n",
    "# Selecionar colunas consideradas relevantes para o modelo (todas as colunas, exceto as marcadas como \"desconsiderar\")\n",
    "colunas = original_ds.columns.difference(colunas_desconsiderar)\n",
    "data = original_ds[colunas]"
   ],
   "metadata": {
    "collapsed": false,
    "ExecuteTime": {
     "end_time": "2023-12-11T10:17:38.064066300Z",
     "start_time": "2023-12-11T10:17:38.018512200Z"
    }
   },
   "id": "276a3987aaf2d348"
  },
  {
   "cell_type": "markdown",
   "source": [
    "# Separação os dados "
   ],
   "metadata": {
    "collapsed": false
   },
   "id": "312deea123ca6087"
  },
  {
   "cell_type": "code",
   "execution_count": 24,
   "outputs": [],
   "source": [
    "# Divisão dos dados em treino e teste\n",
    "X = data.drop('Survived', axis=1)\n",
    "y = data['Survived']\n",
    "X_train, X_test, y_train, y_test = train_test_split(X, y, test_size=TEST_SIZE, random_state=SEED)\n",
    "\n",
    "# Separando os dados em numéricos e categóricos (deixar Cabin fora pois terá tratamento separado\n",
    "num_features = ['Age', 'Fare', 'Parch', 'Pclass', 'SibSp']\n",
    "cat_features = ['Sex', 'Embarked']"
   ],
   "metadata": {
    "collapsed": false,
    "ExecuteTime": {
     "end_time": "2023-12-11T10:14:27.082000300Z",
     "start_time": "2023-12-11T10:14:27.050483500Z"
    }
   },
   "id": "d5f759a8c30fcaaa"
  },
  {
   "cell_type": "markdown",
   "source": [
    "# Definição dos modelos e pré-processadores"
   ],
   "metadata": {
    "collapsed": false
   },
   "id": "d615537ceef326e1"
  },
  {
   "cell_type": "code",
   "execution_count": 25,
   "outputs": [],
   "source": [
    "from transformers import CabinToNumber\n",
    "from sklearn.linear_model import LogisticRegression\n",
    "from sklearn.ensemble import RandomForestClassifier\n",
    "\n",
    "# Configurações dos modelos\n",
    "modelos = {\n",
    "    'KNN': KNeighborsClassifier(),\n",
    "    'NB': GaussianNB(),\n",
    "    'CART': DecisionTreeClassifier(random_state=SEED),\n",
    "    'SVM': SVC(random_state=SEED, probability=True),\n",
    "    # adicionando mais modelos por curiosidade (manter apenas os modelos solicitados) \n",
    "    'RF': RandomForestClassifier(),\n",
    "    'LR': LogisticRegression(),\n",
    "}\n",
    "\n",
    "parametros = {\n",
    "    'KNN': {'classifier__n_neighbors': [3, 5, 7, 9]},\n",
    "    'NB': {'classifier__var_smoothing': [1e-9, 1e-8, 1e-7, 1e-6]},\n",
    "    'CART': {'classifier__max_depth': [3, 5, 7, None], 'classifier__min_samples_split': [2, 3, 5]},\n",
    "    'SVM': {'classifier__C': [0.1, 1, 10, 100], 'classifier__gamma': ['scale', 'auto']},\n",
    "    # adicionando mais modelos por curiosidade (manter apenas os modelos solicitados)\n",
    "    'RF': {'classifier__n_estimators': [100, 200, 300], 'classifier__max_depth': [3, 5, 7, None],\n",
    "           'classifier__min_samples_split': [2, 3, 5], 'classifier__n_jobs': [-1]},\n",
    "    'LR': {'classifier__C': [0.1, 1, 10, 100], 'classifier__solver': ['newton-cg', 'lbfgs', 'liblinear', 'sag', 'saga']}\n",
    "}\n",
    "\n",
    "# Preparação de Pré-processadores\n",
    "preprocessors = {\n",
    "    'original': ColumnTransformer(transformers=[\n",
    "        # ('cabin', CabinToNumber(), ['Cabin']),\n",
    "        ('num', SimpleImputer(strategy='median'), num_features),\n",
    "        ('cat', OneHotEncoder(handle_unknown='ignore'), cat_features)\n",
    "    ]),\n",
    "    'padronizado': ColumnTransformer(transformers=[\n",
    "        # ('cabin', CabinToNumber(), ['Cabin']),\n",
    "        ('num', Pipeline([('imputer', SimpleImputer(strategy='median')), ('scaler', StandardScaler())]), num_features),\n",
    "        ('cat', OneHotEncoder(handle_unknown='ignore'), cat_features)\n",
    "    ]),\n",
    "    'normalizado': ColumnTransformer(transformers=[\n",
    "        # ('cabin', CabinToNumber(), ['Cabin']),\n",
    "        ('num', Pipeline([('imputer', SimpleImputer(strategy='median')), ('scaler', MinMaxScaler())]), num_features),\n",
    "        ('cat', OneHotEncoder(handle_unknown='ignore'), cat_features)\n",
    "    ])\n",
    "}"
   ],
   "metadata": {
    "collapsed": false,
    "ExecuteTime": {
     "end_time": "2023-12-11T10:14:28.861188600Z",
     "start_time": "2023-12-11T10:14:28.838175200Z"
    }
   },
   "id": "bd15436b567efb2e"
  },
  {
   "cell_type": "markdown",
   "source": [
    "# Treinamento e avaliação dos modelos"
   ],
   "metadata": {
    "collapsed": false
   },
   "id": "5340b3291df65caa"
  },
  {
   "cell_type": "code",
   "execution_count": 26,
   "outputs": [
    {
     "name": "stdout",
     "output_type": "stream",
     "text": [
      "original - KNN: Melhor Score = 0.7237335543354397\n",
      "original - NB: Melhor Score = 0.856267481611934\n",
      "original - CART: Melhor Score = 0.8603491142649954\n",
      "original - SVM: Melhor Score = 0.8399616699471668\n",
      "padronizado - KNN: Melhor Score = 0.8542318450222728\n",
      "padronizado - NB: Melhor Score = 0.8593287061017302\n",
      "padronizado - CART: Melhor Score = 0.8603491142649954\n",
      "padronizado - SVM: Melhor Score = 0.8715580648503056\n",
      "normalizado - KNN: Melhor Score = 0.8624054698021342\n",
      "normalizado - NB: Melhor Score = 0.8583082979384647\n",
      "normalizado - CART: Melhor Score = 0.8603491142649954\n",
      "normalizado - SVM: Melhor Score = 0.8664715632445873\n"
     ]
    },
    {
     "data": {
      "text/plain": "<Figure size 1200x600 with 1 Axes>",
      "image/png": "[encoded data removed]"
     },
     "metadata": {},
     "output_type": "display_data"
    }
   ],
   "source": [
    "from matplotlib import pyplot as plt\n",
    "\n",
    "# Avaliação dos Modelos com Diferentes Pré-processamentos\n",
    "# Como o dataset é pequeno, optei por fazer o processo automaticamente usando um loop duplo e fazendo a validação cruzada de cada modelo\n",
    "\n",
    "# Criação do objeto kfold para validação cruzada \n",
    "kfold = StratifiedKFold(n_splits=5, shuffle=True, random_state=SEED)\n",
    "\n",
    "# lista para armazenar os melhores resultados\n",
    "melhores_resultados = {}\n",
    "\n",
    "# Dicionário para armazenar os resultados de validação cruzada de cada modelo\n",
    "resultados_cv = {}\n",
    "\n",
    "# Iterando sobre cada pré-processador e modelo para treinamento e avaliação\n",
    "for preproc_nome, preproc in preprocessors.items():\n",
    "    for nome_modelo, modelo in modelos.items():\n",
    "        # Se a flag USAR_APENAS_MODELOS_SOLICITADOS for verdadeira, pula os modelos não solicitados (facilitar a execução pelos professores)        \n",
    "        if USAR_APENAS_MODELOS_SOLICITADOS and nome_modelo not in MODELOS_SOLICITADOS:\n",
    "            continue\n",
    "\n",
    "        # Criando um pipeline com o pré-processador e o modelo atual\n",
    "        pipeline = Pipeline([('preprocessor', preproc), ('classifier', modelo)])\n",
    "\n",
    "        # Verifica se há parâmetros definidos para o modelo atual\n",
    "        if parametros[nome_modelo]:\n",
    "            # Cria um objeto GridSearchCV para otimização de hiperparâmetros\n",
    "            grid_search = GridSearchCV(pipeline, parametros[nome_modelo], cv=kfold, scoring='accuracy')\n",
    "            # Treina o modelo com o GridSearchCV\n",
    "            grid_search.fit(X_train, y_train)\n",
    "            # Salva o melhor modelo encontrado para incluir na lista de melhores resultados\n",
    "            melhor_modelo = grid_search.best_estimator_\n",
    "            # Salva o melhor score obtido para incluir na lista de melhores resultados\n",
    "            score = grid_search.best_score_\n",
    "        else:\n",
    "            # Se não há parâmetros para ajustar, usa o modelo como está \n",
    "            melhor_modelo = pipeline\n",
    "            melhor_modelo.fit(X_train, y_train)  # Treinando o modelo\n",
    "            # Calculando a média de acurácia com validação cruzada\n",
    "            score = cross_val_score(melhor_modelo, X_train, y_train, cv=kfold, scoring='accuracy').mean()\n",
    "\n",
    "        # Exibindo os resultados\n",
    "        print(f\"{preproc_nome} - {nome_modelo}: Melhor Score = {score}\")\n",
    "        # Armazenando o melhor modelo e o score correspondente no dicionário\n",
    "        melhores_resultados[f\"{preproc_nome}_{nome_modelo}\"] = (melhor_modelo, score)\n",
    "        # Armazenando os resultados do melhor modelo da validação cruzada\n",
    "        resultados_cv[f\"{preproc_nome}_{nome_modelo}\"] = cross_val_score(melhor_modelo, X_train, y_train, cv=kfold,\n",
    "                                                                         scoring='accuracy')\n",
    "\n",
    "# Criando o boxplot para comparação dos resultados\n",
    "fig = plt.figure(figsize=(12, 6))\n",
    "fig.suptitle('Comparação de Acurácia dos Modelos com Diferentes Pré-processadores')\n",
    "ax = fig.add_subplot(111)\n",
    "plt.boxplot(resultados_cv.values())\n",
    "ax.set_xticklabels(resultados_cv.keys())\n",
    "plt.xticks(rotation=45)\n",
    "plt.ylabel('Acurácia')\n",
    "plt.show()\n",
    "\n"
   ],
   "metadata": {
    "collapsed": false,
    "ExecuteTime": {
     "end_time": "2023-12-11T10:15:13.151084900Z",
     "start_time": "2023-12-11T10:14:31.098542100Z"
    }
   },
   "id": "bf3901a67c25a63b"
  },
  {
   "cell_type": "markdown",
   "source": [
    "# Escolhe, treina e salva o melhor modelo"
   ],
   "metadata": {
    "collapsed": false
   },
   "id": "2a0913fee0766ace"
  },
  {
   "cell_type": "code",
   "execution_count": null,
   "outputs": [],
   "source": [
    "# Escolher o Melhor Modelo Geral\n",
    "melhor_modelo_geral = max(melhores_resultados.items(), key=lambda x: x[1][1])\n",
    "\n",
    "# Treinar o melhor modelo geral com todo o conjunto de treinamento\n",
    "melhor_modelo_geral[1][0].fit(X_train, y_train)\n",
    "\n",
    "# Avaliar a acurácia do melhor modelo no conjunto de teste\n",
    "y_pred = melhor_modelo_geral[1][0].predict(X_test)\n",
    "accuracy = accuracy_score(y_test, y_pred)\n",
    "print(f\"Acurácia do melhor modelo no conjunto de teste: {accuracy}\")\n",
    "\n",
    "# Exportar o melhor modelo\n",
    "joblib.dump(melhor_modelo_geral[1][0], f'_titanic.pkl')\n",
    "print(f\"Melhor modelo geral ({melhor_modelo_geral[0]}) exportado como '_titanic.pkl'\")\n",
    "\n",
    "# Exportar o dataset de teste para uso nos testes automatizados\n",
    "test_dataset = pd.concat([X_test, y_test], axis=1)\n",
    "test_dataset.to_csv('_test_dataset.csv', index=False)\n"
   ],
   "metadata": {
    "collapsed": false,
    "ExecuteTime": {
     "start_time": "2023-12-11T10:13:31.546974100Z"
    }
   },
   "id": "c087da713af1c310"
  },
  {
   "cell_type": "markdown",
   "source": [
    "# Exemplo de uso do modelo"
   ],
   "metadata": {
    "collapsed": false
   },
   "id": "dda130d81b90c7f7"
  },
  {
   "cell_type": "code",
   "execution_count": null,
   "outputs": [],
   "source": [
    "# Função para exibir a predição com cores\n",
    "def exibir_predicao(predicao, numero_teste):\n",
    "    cor = \"green\" if predicao[0] == 1 else \"red\"\n",
    "    status = \"sobreviveu\" if predicao[0] == 1 else \"não sobreviveu\"\n",
    "    return HTML(f\"<b>Predição {numero_teste}:</b> Passageiro <span style='color: {cor};'>{status}</span>\")\n",
    "\n",
    "\n",
    "# Carregar o modelo\n",
    "modelo = joblib.load('_titanic.pkl')\n",
    "\n",
    "# Dados de entrada\n",
    "#Pclass,Name,Sex,Age,SibSp,Parch,Ticket,Fare,Cabin,Embarked\n",
    "entrada1 = {\n",
    "    'Pclass': 3,\n",
    "    'Name': 'Mr. Owen Harris Braund',\n",
    "    'Sex': 'male',\n",
    "    'Age': 22,\n",
    "    'SibSp': 1,\n",
    "    'Parch': 0,\n",
    "    'Ticket': 'A/5 21171',\n",
    "    'Fare': 7.25,\n",
    "    'Cabin': '',\n",
    "    'Embarked': 'S'\n",
    "}\n",
    "\n",
    "entrada1 = pd.DataFrame(entrada1, index=[0])\n",
    "predicao1 = modelo.predict(entrada1)\n",
    "display(exibir_predicao(predicao1, 1))\n",
    "# Teste 2\n",
    "\n",
    "# Dados de entrada\n",
    "\n",
    "entrada2 = {\n",
    "    'Pclass': 1,\n",
    "    'Name': 'Mrs. John Bradley (Florence Briggs Thayer) Cumings',\n",
    "    'Sex': 'female',\n",
    "    'Age': 38,\n",
    "    'SibSp': 1,\n",
    "    'Parch': 0,\n",
    "    'Ticket': 'PC 17599',\n",
    "    'Fare': 71.2833,\n",
    "    'Cabin': 'C85',\n",
    "    'Embarked': 'C'\n",
    "}\n",
    "\n",
    "# Preparar e exibir a segunda predição\n",
    "entrada2 = pd.DataFrame(entrada2, index=[0])\n",
    "predicao2 = modelo.predict(entrada2)\n",
    "display(exibir_predicao(predicao2, 2))"
   ],
   "metadata": {
    "collapsed": false,
    "ExecuteTime": {
     "start_time": "2023-12-11T10:13:31.552996900Z"
    }
   },
   "id": "e1bc4a54e83b79d7"
  },
  {
   "cell_type": "code",
   "execution_count": null,
   "outputs": [],
   "source": [],
   "metadata": {
    "collapsed": false,
    "ExecuteTime": {
     "start_time": "2023-12-11T10:13:31.560035400Z"
    }
   },
   "id": "4ca54cfe5cd006b4"
  }
 ],
 "metadata": {
  "kernelspec": {
   "display_name": "Python 3",
   "language": "python",
   "name": "python3"
  },
  "language_info": {
   "codemirror_mode": {
    "name": "ipython",
    "version": 2
   },
   "file_extension": ".py",
   "mimetype": "text/x-python",
   "name": "python",
   "nbconvert_exporter": "python",
   "pygments_lexer": "ipython2",
   "version": "2.7.6"
  }
 },
 "nbformat": 4,
 "nbformat_minor": 5
}
